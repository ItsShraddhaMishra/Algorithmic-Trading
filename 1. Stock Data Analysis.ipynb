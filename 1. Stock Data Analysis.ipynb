{
 "cells": [
  {
   "cell_type": "markdown",
   "id": "155e41ee",
   "metadata": {},
   "source": [
    "## Quant Research:\n",
    "\n",
    "* Analysing the distribution of a stock returns\n",
    "* Deriving a stock beta\n",
    "* Determining correlations between two or more stocks\n",
    "* Calculating rate of change\n",
    "* Backtesting a strategy"
   ]
  },
  {
   "cell_type": "markdown",
   "id": "a8a30dda",
   "metadata": {},
   "source": [
    "While choosing portfolio, choose uncorelated stocks\n",
    "\n",
    "Decide your strategy as per the momentum of the market.\n"
   ]
  },
  {
   "cell_type": "markdown",
   "id": "c5af4e70",
   "metadata": {},
   "source": [
    "### Backtest Moving Average Crossover on multiple Stocks"
   ]
  },
  {
   "cell_type": "code",
   "execution_count": 2,
   "id": "a513c692",
   "metadata": {},
   "outputs": [],
   "source": [
    "import pandas as pd\n",
    "import numpy as np\n",
    "import matplotlib.pyplot as plt\n",
    "%matplotlib inline"
   ]
  },
  {
   "cell_type": "code",
   "execution_count": 4,
   "id": "ce1b8963",
   "metadata": {},
   "outputs": [],
   "source": [
    "data = pd.read_csv('/home/rvl224/Downloads/aapl_daily_data.csv', index_col = 0, parse_dates = True)"
   ]
  },
  {
   "cell_type": "code",
   "execution_count": 5,
   "id": "1caac4d7",
   "metadata": {},
   "outputs": [
    {
     "data": {
      "text/html": [
       "<div>\n",
       "<style scoped>\n",
       "    .dataframe tbody tr th:only-of-type {\n",
       "        vertical-align: middle;\n",
       "    }\n",
       "\n",
       "    .dataframe tbody tr th {\n",
       "        vertical-align: top;\n",
       "    }\n",
       "\n",
       "    .dataframe thead th {\n",
       "        text-align: right;\n",
       "    }\n",
       "</style>\n",
       "<table border=\"1\" class=\"dataframe\">\n",
       "  <thead>\n",
       "    <tr style=\"text-align: right;\">\n",
       "      <th></th>\n",
       "      <th>Open</th>\n",
       "      <th>High</th>\n",
       "      <th>Low</th>\n",
       "      <th>Close</th>\n",
       "      <th>Adj Close</th>\n",
       "      <th>Volume</th>\n",
       "    </tr>\n",
       "    <tr>\n",
       "      <th>Date</th>\n",
       "      <th></th>\n",
       "      <th></th>\n",
       "      <th></th>\n",
       "      <th></th>\n",
       "      <th></th>\n",
       "      <th></th>\n",
       "    </tr>\n",
       "  </thead>\n",
       "  <tbody>\n",
       "    <tr>\n",
       "      <th>2004-12-31</th>\n",
       "      <td>1.159</td>\n",
       "      <td>1.161</td>\n",
       "      <td>1.143</td>\n",
       "      <td>1.150</td>\n",
       "      <td>0.991</td>\n",
       "      <td>278588800</td>\n",
       "    </tr>\n",
       "    <tr>\n",
       "      <th>2005-01-03</th>\n",
       "      <td>1.157</td>\n",
       "      <td>1.163</td>\n",
       "      <td>1.118</td>\n",
       "      <td>1.130</td>\n",
       "      <td>0.973</td>\n",
       "      <td>691992000</td>\n",
       "    </tr>\n",
       "    <tr>\n",
       "      <th>2005-01-04</th>\n",
       "      <td>1.139</td>\n",
       "      <td>1.169</td>\n",
       "      <td>1.124</td>\n",
       "      <td>1.142</td>\n",
       "      <td>0.983</td>\n",
       "      <td>1096810400</td>\n",
       "    </tr>\n",
       "    <tr>\n",
       "      <th>2005-01-05</th>\n",
       "      <td>1.151</td>\n",
       "      <td>1.165</td>\n",
       "      <td>1.144</td>\n",
       "      <td>1.152</td>\n",
       "      <td>0.992</td>\n",
       "      <td>680433600</td>\n",
       "    </tr>\n",
       "    <tr>\n",
       "      <th>2005-01-06</th>\n",
       "      <td>1.155</td>\n",
       "      <td>1.159</td>\n",
       "      <td>1.131</td>\n",
       "      <td>1.153</td>\n",
       "      <td>0.993</td>\n",
       "      <td>705555200</td>\n",
       "    </tr>\n",
       "  </tbody>\n",
       "</table>\n",
       "</div>"
      ],
      "text/plain": [
       "             Open   High    Low  Close  Adj Close      Volume\n",
       "Date                                                         \n",
       "2004-12-31  1.159  1.161  1.143  1.150      0.991   278588800\n",
       "2005-01-03  1.157  1.163  1.118  1.130      0.973   691992000\n",
       "2005-01-04  1.139  1.169  1.124  1.142      0.983  1096810400\n",
       "2005-01-05  1.151  1.165  1.144  1.152      0.992   680433600\n",
       "2005-01-06  1.155  1.159  1.131  1.153      0.993   705555200"
      ]
     },
     "execution_count": 5,
     "metadata": {},
     "output_type": "execute_result"
    }
   ],
   "source": [
    "data.head()"
   ]
  },
  {
   "cell_type": "code",
   "execution_count": 6,
   "id": "b3aa0cea",
   "metadata": {},
   "outputs": [],
   "source": [
    "# calculate buy and hold returns \n",
    "data['d_returns'] = data['Adj Close'].pct_change()"
   ]
  },
  {
   "cell_type": "code",
   "execution_count": 10,
   "id": "36621376",
   "metadata": {},
   "outputs": [],
   "source": [
    "# strategy params\n",
    "\n",
    "sma = 10\n",
    "lma = 20"
   ]
  },
  {
   "cell_type": "code",
   "execution_count": 9,
   "id": "84a04bb1",
   "metadata": {},
   "outputs": [],
   "source": [
    "#calculate rules - moving aveages\n",
    "\n",
    "data['sma'] = data['Adj Close'].rolling(sma).mean()\n",
    "data['lma'] = data['Adj Close'].rolling(lma).mean()"
   ]
  },
  {
   "cell_type": "code",
   "execution_count": 12,
   "id": "81447270",
   "metadata": {},
   "outputs": [],
   "source": [
    "#calculate trading signals\n",
    "data['signals'] = np.where(data['sma'] >= data['lma'], 1, -1)"
   ]
  },
  {
   "cell_type": "code",
   "execution_count": 13,
   "id": "ea97788c",
   "metadata": {},
   "outputs": [],
   "source": [
    "#drop NA \n",
    "\n",
    "data.dropna(inplace=True)"
   ]
  },
  {
   "cell_type": "code",
   "execution_count": null,
   "id": "0427e2d8",
   "metadata": {},
   "outputs": [],
   "source": [
    "data[]"
   ]
  },
  {
   "cell_type": "code",
   "execution_count": null,
   "id": "57dde318",
   "metadata": {},
   "outputs": [],
   "source": []
  },
  {
   "cell_type": "code",
   "execution_count": null,
   "id": "c39e151a",
   "metadata": {},
   "outputs": [],
   "source": [
    "import yfinance as yf\n",
    "\n",
    "# define stock list\n",
    "\n",
    "stock_list = ['FB', 'AAPL', 'AMZN', 'NFLX', 'GOOG']\n",
    "\n"
   ]
  }
 ],
 "metadata": {
  "kernelspec": {
   "display_name": "Python 3",
   "language": "python",
   "name": "python3"
  },
  "language_info": {
   "codemirror_mode": {
    "name": "ipython",
    "version": 3
   },
   "file_extension": ".py",
   "mimetype": "text/x-python",
   "name": "python",
   "nbconvert_exporter": "python",
   "pygments_lexer": "ipython3",
   "version": "3.7.11"
  }
 },
 "nbformat": 4,
 "nbformat_minor": 5
}
