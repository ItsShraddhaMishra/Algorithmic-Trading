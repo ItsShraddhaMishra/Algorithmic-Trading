{
 "cells": [
  {
   "cell_type": "markdown",
   "id": "4166abb5",
   "metadata": {},
   "source": [
    "##  Equal-Weight S&P 500 Strategy"
   ]
  },
  {
   "cell_type": "code",
   "execution_count": null,
   "id": "c3e452f1",
   "metadata": {},
   "outputs": [],
   "source": [
    "import numpy as np\n",
    "import pandas as pd\n",
    "import requests # to make http requests\n",
    "import xlsxwriter\n",
    "import math\n",
    "from token import IEX_CLOUD_API_TOKEN"
   ]
  },
  {
   "cell_type": "code",
   "execution_count": null,
   "id": "e229db88",
   "metadata": {},
   "outputs": [],
   "source": [
    "# Fetch stock list\n",
    "stocks = pd.read_csv('/home/rvl224/Downloads/sp_500_stocks.csv')\n",
    "stocks"
   ]
  },
  {
   "cell_type": "code",
   "execution_count": 5,
   "id": "7a3ac5af",
   "metadata": {},
   "outputs": [],
   "source": [
    "# Acquire API Token\n",
    "#Run on terminal\n",
    "#  export IEX_TOKEN=<YOUR-TOKEN>"
   ]
  },
  {
   "cell_type": "markdown",
   "id": "a7d4bc38",
   "metadata": {},
   "source": [
    "### Making our first API Call"
   ]
  },
  {
   "cell_type": "code",
   "execution_count": 7,
   "id": "7b8e4ce7",
   "metadata": {},
   "outputs": [
    {
     "ename": "NameError",
     "evalue": "name 'IEX_TOKEN' is not defined",
     "output_type": "error",
     "traceback": [
      "\u001b[0;31m---------------------------------------------------------------------------\u001b[0m",
      "\u001b[0;31mNameError\u001b[0m                                 Traceback (most recent call last)",
      "\u001b[0;32m<ipython-input-7-052ffa427f00>\u001b[0m in \u001b[0;36m<module>\u001b[0;34m\u001b[0m\n\u001b[1;32m      1\u001b[0m \u001b[0msymbol\u001b[0m \u001b[0;34m=\u001b[0m \u001b[0;34m'AAPL'\u001b[0m\u001b[0;34m\u001b[0m\u001b[0;34m\u001b[0m\u001b[0m\n\u001b[0;32m----> 2\u001b[0;31m \u001b[0mapi_url\u001b[0m \u001b[0;34m=\u001b[0m \u001b[0;34mf'https://sandbox.iexapis.com/stock/{symbol}/quote/?token = {IEX_TOKEN}'\u001b[0m\u001b[0;34m\u001b[0m\u001b[0;34m\u001b[0m\u001b[0m\n\u001b[0m\u001b[1;32m      3\u001b[0m \u001b[0mprint\u001b[0m\u001b[0;34m(\u001b[0m\u001b[0mapi_url\u001b[0m\u001b[0;34m)\u001b[0m\u001b[0;34m\u001b[0m\u001b[0;34m\u001b[0m\u001b[0m\n",
      "\u001b[0;31mNameError\u001b[0m: name 'IEX_TOKEN' is not defined"
     ]
    }
   ],
   "source": [
    "symbol = 'AAPL'\n",
    "api_url = f'https://sandbox.iexapis.com/stock/{symbol}/quote/?token = {IEX_TOKEN}'\n",
    "print(api_url)"
   ]
  },
  {
   "cell_type": "markdown",
   "id": "71f8dacc",
   "metadata": {},
   "source": [
    "### Parsing our API Call\n"
   ]
  },
  {
   "cell_type": "code",
   "execution_count": null,
   "id": "6c1b4a0c",
   "metadata": {},
   "outputs": [],
   "source": []
  }
 ],
 "metadata": {
  "kernelspec": {
   "display_name": "Python 3",
   "language": "python",
   "name": "python3"
  },
  "language_info": {
   "codemirror_mode": {
    "name": "ipython",
    "version": 3
   },
   "file_extension": ".py",
   "mimetype": "text/x-python",
   "name": "python",
   "nbconvert_exporter": "python",
   "pygments_lexer": "ipython3",
   "version": "3.7.11"
  }
 },
 "nbformat": 4,
 "nbformat_minor": 5
}
