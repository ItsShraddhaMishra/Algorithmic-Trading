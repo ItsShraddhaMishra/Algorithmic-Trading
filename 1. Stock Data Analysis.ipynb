{
 "cells": [
  {
   "cell_type": "markdown",
   "id": "20066552",
   "metadata": {},
   "source": [
    "## Quant Research:\n",
    "\n",
    "* Analysing the distribution of a stock returns\n",
    "* Deriving a stock beta\n",
    "* Determining correlations between two or more stocks\n",
    "* Calculating rate of change\n",
    "* Backtesting a strategy"
   ]
  },
  {
   "cell_type": "markdown",
   "id": "75d4cd12",
   "metadata": {},
   "source": [
    "While choosing portfolio, choose uncorelated stocks\n",
    "\n",
    "Decide your strategy as per the momentum of the market.\n"
   ]
  },
  {
   "cell_type": "markdown",
   "id": "729aca83",
   "metadata": {},
   "source": [
    "### Backtest Moving Average Crossover on multiple Stocks"
   ]
  },
  {
   "cell_type": "code",
   "execution_count": 2,
   "id": "7aae32b7",
   "metadata": {},
   "outputs": [],
   "source": [
    "import pandas as pd\n",
    "import numpy as np\n",
    "import matplotlib.pyplot as plt\n",
    "%matplotlib inline"
   ]
  },
  {
   "cell_type": "code",
   "execution_count": 4,
   "id": "4ac4710c",
   "metadata": {},
   "outputs": [],
   "source": [
    "#Fetch stock data\n",
    "data = pd.read_csv('/home/rvl224/Downloads/aapl_daily_data.csv', index_col = 0, parse_dates = True)"
   ]
  },
  {
   "cell_type": "code",
   "execution_count": 5,
   "id": "5bc6ddaa",
   "metadata": {},
   "outputs": [
    {
     "data": {
      "text/html": [
       "<div>\n",
       "<style scoped>\n",
       "    .dataframe tbody tr th:only-of-type {\n",
       "        vertical-align: middle;\n",
       "    }\n",
       "\n",
       "    .dataframe tbody tr th {\n",
       "        vertical-align: top;\n",
       "    }\n",
       "\n",
       "    .dataframe thead th {\n",
       "        text-align: right;\n",
       "    }\n",
       "</style>\n",
       "<table border=\"1\" class=\"dataframe\">\n",
       "  <thead>\n",
       "    <tr style=\"text-align: right;\">\n",
       "      <th></th>\n",
       "      <th>Open</th>\n",
       "      <th>High</th>\n",
       "      <th>Low</th>\n",
       "      <th>Close</th>\n",
       "      <th>Adj Close</th>\n",
       "      <th>Volume</th>\n",
       "    </tr>\n",
       "    <tr>\n",
       "      <th>Date</th>\n",
       "      <th></th>\n",
       "      <th></th>\n",
       "      <th></th>\n",
       "      <th></th>\n",
       "      <th></th>\n",
       "      <th></th>\n",
       "    </tr>\n",
       "  </thead>\n",
       "  <tbody>\n",
       "    <tr>\n",
       "      <th>2004-12-31</th>\n",
       "      <td>1.159</td>\n",
       "      <td>1.161</td>\n",
       "      <td>1.143</td>\n",
       "      <td>1.150</td>\n",
       "      <td>0.991</td>\n",
       "      <td>278588800</td>\n",
       "    </tr>\n",
       "    <tr>\n",
       "      <th>2005-01-03</th>\n",
       "      <td>1.157</td>\n",
       "      <td>1.163</td>\n",
       "      <td>1.118</td>\n",
       "      <td>1.130</td>\n",
       "      <td>0.973</td>\n",
       "      <td>691992000</td>\n",
       "    </tr>\n",
       "    <tr>\n",
       "      <th>2005-01-04</th>\n",
       "      <td>1.139</td>\n",
       "      <td>1.169</td>\n",
       "      <td>1.124</td>\n",
       "      <td>1.142</td>\n",
       "      <td>0.983</td>\n",
       "      <td>1096810400</td>\n",
       "    </tr>\n",
       "    <tr>\n",
       "      <th>2005-01-05</th>\n",
       "      <td>1.151</td>\n",
       "      <td>1.165</td>\n",
       "      <td>1.144</td>\n",
       "      <td>1.152</td>\n",
       "      <td>0.992</td>\n",
       "      <td>680433600</td>\n",
       "    </tr>\n",
       "    <tr>\n",
       "      <th>2005-01-06</th>\n",
       "      <td>1.155</td>\n",
       "      <td>1.159</td>\n",
       "      <td>1.131</td>\n",
       "      <td>1.153</td>\n",
       "      <td>0.993</td>\n",
       "      <td>705555200</td>\n",
       "    </tr>\n",
       "  </tbody>\n",
       "</table>\n",
       "</div>"
      ],
      "text/plain": [
       "             Open   High    Low  Close  Adj Close      Volume\n",
       "Date                                                         \n",
       "2004-12-31  1.159  1.161  1.143  1.150      0.991   278588800\n",
       "2005-01-03  1.157  1.163  1.118  1.130      0.973   691992000\n",
       "2005-01-04  1.139  1.169  1.124  1.142      0.983  1096810400\n",
       "2005-01-05  1.151  1.165  1.144  1.152      0.992   680433600\n",
       "2005-01-06  1.155  1.159  1.131  1.153      0.993   705555200"
      ]
     },
     "execution_count": 5,
     "metadata": {},
     "output_type": "execute_result"
    }
   ],
   "source": [
    "#Spread it\n",
    "data.head()"
   ]
  },
  {
   "cell_type": "markdown",
   "id": "94e99cd1",
   "metadata": {},
   "source": [
    "####  Create Rules"
   ]
  },
  {
   "cell_type": "code",
   "execution_count": 6,
   "id": "627df275",
   "metadata": {},
   "outputs": [],
   "source": [
    "# calculate buy and hold returns \n",
    "data['d_returns'] = data['Adj Close'].pct_change()"
   ]
  },
  {
   "cell_type": "code",
   "execution_count": 10,
   "id": "12397cc1",
   "metadata": {},
   "outputs": [],
   "source": [
    "# strategy params\n",
    "\n",
    "sma = 10\n",
    "lma = 20"
   ]
  },
  {
   "cell_type": "code",
   "execution_count": 9,
   "id": "d0c072fb",
   "metadata": {},
   "outputs": [],
   "source": [
    "#calculate rules - moving aveages\n",
    "\n",
    "data['sma'] = data['Adj Close'].rolling(sma).mean()\n",
    "data['lma'] = data['Adj Close'].rolling(lma).mean()"
   ]
  },
  {
   "cell_type": "markdown",
   "id": "39c597e1",
   "metadata": {},
   "source": [
    "####  calculate trading signals"
   ]
  },
  {
   "cell_type": "code",
   "execution_count": 12,
   "id": "28e99e4a",
   "metadata": {},
   "outputs": [],
   "source": [
    "\n",
    "data['signals'] = np.where(data['sma'] >= data['lma'], 1, -1)"
   ]
  },
  {
   "cell_type": "code",
   "execution_count": 15,
   "id": "4e23a367",
   "metadata": {},
   "outputs": [],
   "source": [
    "#drop NA as it may hamper calculation\n",
    "\n",
    "data.dropna(inplace=True)"
   ]
  },
  {
   "cell_type": "code",
   "execution_count": 16,
   "id": "676f9dbe",
   "metadata": {},
   "outputs": [],
   "source": [
    "# calculate strategy returns\n",
    "data['s_returns'] = data['d_returns']*data['signals'].shift(1)"
   ]
  },
  {
   "cell_type": "code",
   "execution_count": 17,
   "id": "fe9440f3",
   "metadata": {},
   "outputs": [],
   "source": [
    "#Calculate Cumulative returns\n",
    "cum_s_returns = (data['s_returns']+1).cumprod()"
   ]
  },
  {
   "cell_type": "code",
   "execution_count": 19,
   "id": "bd062a69",
   "metadata": {},
   "outputs": [
    {
     "name": "stdout",
     "output_type": "stream",
     "text": [
      "Cumulative Strategy Returns:  4.348\n"
     ]
    }
   ],
   "source": [
    "#Net returns\n",
    "print('Cumulative Strategy Returns: ', round(cum_s_returns.iloc[-1] -1,3))"
   ]
  },
  {
   "cell_type": "code",
   "execution_count": 20,
   "id": "b7324b80",
   "metadata": {},
   "outputs": [
    {
     "ename": "NameError",
     "evalue": "name 'figure' is not defined",
     "output_type": "error",
     "traceback": [
      "\u001b[0;31m---------------------------------------------------------------------------\u001b[0m",
      "\u001b[0;31mNameError\u001b[0m                                 Traceback (most recent call last)",
      "\u001b[0;32m<ipython-input-20-2ad037b5dfb7>\u001b[0m in \u001b[0;36m<module>\u001b[0;34m\u001b[0m\n\u001b[1;32m      1\u001b[0m \u001b[0;31m#visualize returns\u001b[0m\u001b[0;34m\u001b[0m\u001b[0;34m\u001b[0m\u001b[0;34m\u001b[0m\u001b[0m\n\u001b[1;32m      2\u001b[0m \u001b[0;34m\u001b[0m\u001b[0m\n\u001b[0;32m----> 3\u001b[0;31m \u001b[0mplt\u001b[0m\u001b[0;34m.\u001b[0m\u001b[0mfigure\u001b[0m\u001b[0;34m(\u001b[0m\u001b[0mfigure\u001b[0m\u001b[0;34m(\u001b[0m\u001b[0mfigsize\u001b[0m \u001b[0;34m=\u001b[0m \u001b[0;34m(\u001b[0m\u001b[0;36m13\u001b[0m\u001b[0;34m,\u001b[0m\u001b[0;36m5\u001b[0m\u001b[0;34m)\u001b[0m\u001b[0;34m)\u001b[0m\u001b[0;34m)\u001b[0m\u001b[0;34m\u001b[0m\u001b[0;34m\u001b[0m\u001b[0m\n\u001b[0m\u001b[1;32m      4\u001b[0m \u001b[0mplt\u001b[0m\u001b[0;34m.\u001b[0m\u001b[0mplot\u001b[0m\u001b[0;34m(\u001b[0m\u001b[0mcum_s_returns\u001b[0m\u001b[0;34m,\u001b[0m \u001b[0mlabel\u001b[0m \u001b[0;34m=\u001b[0m \u001b[0;34m'strategy'\u001b[0m\u001b[0;34m)\u001b[0m\u001b[0;34m\u001b[0m\u001b[0;34m\u001b[0m\u001b[0m\n\u001b[1;32m      5\u001b[0m \u001b[0;34m\u001b[0m\u001b[0m\n",
      "\u001b[0;31mNameError\u001b[0m: name 'figure' is not defined"
     ]
    }
   ],
   "source": [
    "#visualize returns\n",
    "\n",
    "plt.figure(figure(figsize = (13,5)))\n",
    "plt.plot(cum_s_returns, label = 'strategy')\n",
    "\n",
    "plt.title('Strategy Returns')\n",
    "plt.xlabel('Returns')\n",
    "plt.grid()\n",
    "plt.legend()\n",
    "plt.show()"
   ]
  },
  {
   "cell_type": "code",
   "execution_count": null,
   "id": "6e2d7f18",
   "metadata": {},
   "outputs": [],
   "source": [
    "import yfinance as yf\n",
    "\n",
    "# define stock list\n",
    "\n",
    "stock_list = ['FB', 'AAPL', 'AMZN', 'NFLX', 'GOOG']\n",
    "\n"
   ]
  }
 ],
 "metadata": {
  "kernelspec": {
   "display_name": "Python 3",
   "language": "python",
   "name": "python3"
  },
  "language_info": {
   "codemirror_mode": {
    "name": "ipython",
    "version": 3
   },
   "file_extension": ".py",
   "mimetype": "text/x-python",
   "name": "python",
   "nbconvert_exporter": "python",
   "pygments_lexer": "ipython3",
   "version": "3.7.11"
  }
 },
 "nbformat": 4,
 "nbformat_minor": 5
}
