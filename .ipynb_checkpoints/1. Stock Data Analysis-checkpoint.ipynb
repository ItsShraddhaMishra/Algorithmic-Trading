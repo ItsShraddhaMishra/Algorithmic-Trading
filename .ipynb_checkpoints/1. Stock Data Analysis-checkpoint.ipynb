{
 "cells": [
  {
   "cell_type": "markdown",
   "id": "2e03f60a",
   "metadata": {},
   "source": [
    "## Quant Research:\n",
    "\n",
    "* Analysing the distribution of a stock returns\n",
    "* Deriving a stock beta\n",
    "* Determining correlations between two or more stocks\n",
    "* Calculating rate of change\n",
    "* Backtesting a strategy"
   ]
  },
  {
   "cell_type": "markdown",
   "id": "310cfbff",
   "metadata": {},
   "source": [
    "While choosing portfolio, choose uncorelated stocks\n",
    "\n",
    "Decide your strategy as per the momentum of the market.\n"
   ]
  },
  {
   "cell_type": "markdown",
   "id": "6cddf747",
   "metadata": {},
   "source": [
    "### Backtest Moving Average Crossover on multiple Stocks"
   ]
  },
  {
   "cell_type": "code",
   "execution_count": 1,
   "id": "8da63e5d",
   "metadata": {},
   "outputs": [],
   "source": [
    "import pandas as pd\n",
    "import numpy as np\n",
    "import matplotlib.pyplot as plt\n",
    "# matplotlib inline"
   ]
  },
  {
   "cell_type": "code",
   "execution_count": null,
   "id": "b2e09bb9",
   "metadata": {},
   "outputs": [],
   "source": [
    "import yfinance as yf\n",
    "\n",
    "# define stock list\n",
    "\n",
    "stock_list = ['FB', 'AAPL', 'AMZN', 'NFLX', 'GOOG']\n",
    "\n",
    "#DEFINE STRATEGY PARAMS\n",
    "SMA = 10\n",
    "LMA ="
   ]
  }
 ],
 "metadata": {
  "kernelspec": {
   "display_name": "Python 3",
   "language": "python",
   "name": "python3"
  },
  "language_info": {
   "codemirror_mode": {
    "name": "ipython",
    "version": 3
   },
   "file_extension": ".py",
   "mimetype": "text/x-python",
   "name": "python",
   "nbconvert_exporter": "python",
   "pygments_lexer": "ipython3",
   "version": "3.7.11"
  }
 },
 "nbformat": 4,
 "nbformat_minor": 5
}
